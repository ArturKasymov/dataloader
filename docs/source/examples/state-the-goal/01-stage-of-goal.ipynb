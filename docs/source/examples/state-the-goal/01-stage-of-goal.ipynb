{
 "cells": [
  {
   "cell_type": "code",
   "execution_count": null,
   "id": "8c3403a6",
   "metadata": {},
   "outputs": [],
   "source": [
    "# Copyright 2021 NVIDIA Corporation. All Rights Reserved.\n",
    "#\n",
    "# Licensed under the Apache License, Version 2.0 (the \"License\");\n",
    "# you may not use this file except in compliance with the License.\n",
    "# You may obtain a copy of the License at\n",
    "#\n",
    "#     http://www.apache.org/licenses/LICENSE-2.0\n",
    "#\n",
    "# Unless required by applicable law or agreed to in writing, software\n",
    "# distributed under the License is distributed on an \"AS IS\" BASIS,\n",
    "# WITHOUT WARRANTIES OR CONDITIONS OF ANY KIND, either express or implied.\n",
    "# See the License for the specific language governing permissions and\n",
    "# limitations under the License.\n",
    "# ================================"
   ]
  },
  {
   "cell_type": "markdown",
   "id": "03166488-1651-4025-84ed-4e9e5db34933",
   "metadata": {},
   "source": [
    "# Creating a Good Notebook"
   ]
  },
  {
   "cell_type": "markdown",
   "id": "f9657308-2e08-49b4-8924-eace75a4634c",
   "metadata": {},
   "source": [
    "Really, the trivial documentation detail about notebooks is to start the first heading, the title, with one `#`.\n",
    "\n",
    "Write between one and three sentences that summarize what the customer can learn and how the customer will learn it\n",
    "by following the notebook."
   ]
  },
  {
   "cell_type": "markdown",
   "id": "e26f3194-9f17-4fa7-8baa-14333f2a122a",
   "metadata": {},
   "source": [
    "## Learning objectives\n",
    "- Good notebooks have an educational goal.\n",
    "- Ideally, start these bullets with the gerund form of a verb such as \"Deploying\", \"Exploring\", \"Experiencing\"."
   ]
  },
  {
   "cell_type": "markdown",
   "id": "46b7f3bd",
   "metadata": {},
   "source": [
    "## First Heading that Introduces Code\n",
    "\n",
    "The documentation detail for this heading and all subordinate headings is to start the heading with `###`.\n",
    "\n",
    "From a writing standpoint, use a conversational tone.  Use of \"we\" is OK and follows the style that is often used in mathematical writing."
   ]
  },
  {
   "cell_type": "code",
   "execution_count": null,
   "id": "5aefb2ff-f9a9-4838-b8f3-ee96f49ad583",
   "metadata": {},
   "outputs": [],
   "source": [
    "# disable INFO and DEBUG logging everywhere\n",
    "import logging\n",
    "logging.disable(logging.WARNING)"
   ]
  },
  {
   "cell_type": "markdown",
   "id": "cf9bca46-a6b6-4a73-afd8-fe2869c60748",
   "metadata": {},
   "source": [
    "## Second Heading that Introduces Code\n",
    "\n",
    "Use headings to group cells.  Use the headings to indicate the important concepts, classes, or tasks our customers need to know and use."
   ]
  },
  {
   "cell_type": "code",
   "execution_count": null,
   "id": "550d45c9",
   "metadata": {},
   "outputs": [],
   "source": [
    "%%time\n",
    "\n",
    "user_id = [\"user_id\"] >> Categorify(dtype='int32') >> TagAsUserID()\n",
    "item_id = [\"item_id\"] >> Categorify(dtype='int32') >> TagAsItemID()\n",
    "\n",
    "item_features = [\"item_category\", \"item_shop\", \"item_brand\"] >> Categorify(dtype='int32') >> TagAsItemFeatures() \n",
    "\n",
    "user_features = ['user_shops', 'user_profile', 'user_group', \n",
    "       'user_gender', 'user_age', 'user_consumption_2', 'user_is_occupied',\n",
    "       'user_geography', 'user_intentions', 'user_brands', 'user_categories'] \\\n",
    "    >> Categorify(dtype='int32') >> TagAsUserFeatures() \n",
    "\n",
    "targets = [\"click\"] >> AddMetadata(tags=[str(Tags.BINARY_CLASSIFICATION), \"target\"])\n",
    "\n",
    "outputs = user_id+item_id+item_features+user_features+targets\n",
    "\n",
    "workflow_fit_transform(outputs, train_path, valid_path, output_path, 'workflow_ranking')"
   ]
  },
  {
   "cell_type": "markdown",
   "id": "80678ea1-a7fb-4016-9e6f-c905497f4142",
   "metadata": {},
   "source": [
    "## Conclusion, Next Steps, or Both\n",
    "\n",
    "Briefly restate what we tried to teach our customer.\n",
    "\n",
    "If the notebook is one stage of a multi-stage experience, hint at what our customer will learn in the next notebook."
   ]
  }
 ],
 "metadata": {
  "kernelspec": {
   "display_name": "Python 3 (ipykernel)",
   "language": "python",
   "name": "python3"
  },
  "language_info": {
   "codemirror_mode": {
    "name": "ipython",
    "version": 3
   },
   "file_extension": ".py",
   "mimetype": "text/x-python",
   "name": "python",
   "nbconvert_exporter": "python",
   "pygments_lexer": "ipython3",
   "version": "3.8.10"
  }
 },
 "nbformat": 4,
 "nbformat_minor": 5
}
